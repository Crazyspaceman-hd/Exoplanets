{
 "cells": [
  {
   "cell_type": "code",
   "execution_count": 1,
   "metadata": {},
   "outputs": [],
   "source": [
    "import matplotlib.pyplot as plt\n",
    "import pandas as pd\n",
    "import numpy as np\n",
    "import requests\n",
    "import gmaps\n",
    "import os"
   ]
  },
  {
   "cell_type": "code",
   "execution_count": 2,
   "metadata": {},
   "outputs": [
    {
     "data": {
      "text/html": [
       "<div>\n",
       "<style scoped>\n",
       "    .dataframe tbody tr th:only-of-type {\n",
       "        vertical-align: middle;\n",
       "    }\n",
       "\n",
       "    .dataframe tbody tr th {\n",
       "        vertical-align: top;\n",
       "    }\n",
       "\n",
       "    .dataframe thead th {\n",
       "        text-align: right;\n",
       "    }\n",
       "</style>\n",
       "<table border=\"1\" class=\"dataframe\">\n",
       "  <thead>\n",
       "    <tr style=\"text-align: right;\">\n",
       "      <th></th>\n",
       "      <th>pl_name</th>\n",
       "      <th>hostname</th>\n",
       "      <th>sy_snum</th>\n",
       "      <th>sy_pnum</th>\n",
       "      <th>discoverymethod</th>\n",
       "      <th>disc_year</th>\n",
       "      <th>disc_locale</th>\n",
       "      <th>disc_facility</th>\n",
       "      <th>pl_controv_flag</th>\n",
       "      <th>pl_orbper</th>\n",
       "      <th>...</th>\n",
       "      <th>st_age</th>\n",
       "      <th>st_ageerr1</th>\n",
       "      <th>st_ageerr2</th>\n",
       "      <th>st_agelim</th>\n",
       "      <th>sy_dist</th>\n",
       "      <th>sy_disterr1</th>\n",
       "      <th>sy_disterr2</th>\n",
       "      <th>sy_gaiamag</th>\n",
       "      <th>sy_gaiamagerr1</th>\n",
       "      <th>sy_gaiamagerr2</th>\n",
       "    </tr>\n",
       "  </thead>\n",
       "  <tbody>\n",
       "    <tr>\n",
       "      <th>0</th>\n",
       "      <td>2MASS J19383260+4603591 b</td>\n",
       "      <td>2MASS J19383260+4603591</td>\n",
       "      <td>2</td>\n",
       "      <td>1</td>\n",
       "      <td>Eclipse Timing Variations</td>\n",
       "      <td>2015</td>\n",
       "      <td>Space</td>\n",
       "      <td>Kepler</td>\n",
       "      <td>0</td>\n",
       "      <td>416.000000</td>\n",
       "      <td>...</td>\n",
       "      <td>NaN</td>\n",
       "      <td>NaN</td>\n",
       "      <td>NaN</td>\n",
       "      <td>NaN</td>\n",
       "      <td>396.3320</td>\n",
       "      <td>6.38850</td>\n",
       "      <td>-6.38850</td>\n",
       "      <td>12.13760</td>\n",
       "      <td>0.003687</td>\n",
       "      <td>-0.003687</td>\n",
       "    </tr>\n",
       "    <tr>\n",
       "      <th>1</th>\n",
       "      <td>2MASS J21402931+1625183 A b</td>\n",
       "      <td>2MASS J21402931+1625183 A</td>\n",
       "      <td>1</td>\n",
       "      <td>1</td>\n",
       "      <td>Imaging</td>\n",
       "      <td>2009</td>\n",
       "      <td>Ground</td>\n",
       "      <td>W. M. Keck Observatory</td>\n",
       "      <td>0</td>\n",
       "      <td>7336.500000</td>\n",
       "      <td>...</td>\n",
       "      <td>NaN</td>\n",
       "      <td>NaN</td>\n",
       "      <td>NaN</td>\n",
       "      <td>NaN</td>\n",
       "      <td>NaN</td>\n",
       "      <td>NaN</td>\n",
       "      <td>NaN</td>\n",
       "      <td>17.39610</td>\n",
       "      <td>0.004861</td>\n",
       "      <td>-0.004861</td>\n",
       "    </tr>\n",
       "    <tr>\n",
       "      <th>2</th>\n",
       "      <td>51 Peg b</td>\n",
       "      <td>51 Peg</td>\n",
       "      <td>1</td>\n",
       "      <td>1</td>\n",
       "      <td>Radial Velocity</td>\n",
       "      <td>1995</td>\n",
       "      <td>Ground</td>\n",
       "      <td>Haute-Provence Observatory</td>\n",
       "      <td>0</td>\n",
       "      <td>4.231000</td>\n",
       "      <td>...</td>\n",
       "      <td>NaN</td>\n",
       "      <td>NaN</td>\n",
       "      <td>NaN</td>\n",
       "      <td>NaN</td>\n",
       "      <td>15.4614</td>\n",
       "      <td>0.02970</td>\n",
       "      <td>-0.02970</td>\n",
       "      <td>5.28647</td>\n",
       "      <td>0.002768</td>\n",
       "      <td>-0.002768</td>\n",
       "    </tr>\n",
       "    <tr>\n",
       "      <th>3</th>\n",
       "      <td>55 Cnc b</td>\n",
       "      <td>55 Cnc</td>\n",
       "      <td>2</td>\n",
       "      <td>5</td>\n",
       "      <td>Radial Velocity</td>\n",
       "      <td>1996</td>\n",
       "      <td>Ground</td>\n",
       "      <td>Lick Observatory</td>\n",
       "      <td>0</td>\n",
       "      <td>14.600000</td>\n",
       "      <td>...</td>\n",
       "      <td>NaN</td>\n",
       "      <td>NaN</td>\n",
       "      <td>NaN</td>\n",
       "      <td>NaN</td>\n",
       "      <td>12.5855</td>\n",
       "      <td>0.01240</td>\n",
       "      <td>-0.01230</td>\n",
       "      <td>5.72973</td>\n",
       "      <td>0.000852</td>\n",
       "      <td>-0.000852</td>\n",
       "    </tr>\n",
       "    <tr>\n",
       "      <th>4</th>\n",
       "      <td>55 Cnc b</td>\n",
       "      <td>55 Cnc</td>\n",
       "      <td>2</td>\n",
       "      <td>5</td>\n",
       "      <td>Radial Velocity</td>\n",
       "      <td>1996</td>\n",
       "      <td>Ground</td>\n",
       "      <td>Lick Observatory</td>\n",
       "      <td>0</td>\n",
       "      <td>14.465314</td>\n",
       "      <td>...</td>\n",
       "      <td>NaN</td>\n",
       "      <td>NaN</td>\n",
       "      <td>NaN</td>\n",
       "      <td>NaN</td>\n",
       "      <td>12.5855</td>\n",
       "      <td>0.01240</td>\n",
       "      <td>-0.01230</td>\n",
       "      <td>5.72973</td>\n",
       "      <td>0.000852</td>\n",
       "      <td>-0.000852</td>\n",
       "    </tr>\n",
       "    <tr>\n",
       "      <th>...</th>\n",
       "      <td>...</td>\n",
       "      <td>...</td>\n",
       "      <td>...</td>\n",
       "      <td>...</td>\n",
       "      <td>...</td>\n",
       "      <td>...</td>\n",
       "      <td>...</td>\n",
       "      <td>...</td>\n",
       "      <td>...</td>\n",
       "      <td>...</td>\n",
       "      <td>...</td>\n",
       "      <td>...</td>\n",
       "      <td>...</td>\n",
       "      <td>...</td>\n",
       "      <td>...</td>\n",
       "      <td>...</td>\n",
       "      <td>...</td>\n",
       "      <td>...</td>\n",
       "      <td>...</td>\n",
       "      <td>...</td>\n",
       "      <td>...</td>\n",
       "    </tr>\n",
       "    <tr>\n",
       "      <th>2087</th>\n",
       "      <td>nu Oph b</td>\n",
       "      <td>nu Oph</td>\n",
       "      <td>1</td>\n",
       "      <td>2</td>\n",
       "      <td>Radial Velocity</td>\n",
       "      <td>2012</td>\n",
       "      <td>Ground</td>\n",
       "      <td>Okayama Astrophysical Observatory</td>\n",
       "      <td>0</td>\n",
       "      <td>530.210000</td>\n",
       "      <td>...</td>\n",
       "      <td>0.65</td>\n",
       "      <td>0.17</td>\n",
       "      <td>-0.17</td>\n",
       "      <td>0.0</td>\n",
       "      <td>46.2107</td>\n",
       "      <td>1.73313</td>\n",
       "      <td>-1.73313</td>\n",
       "      <td>3.09653</td>\n",
       "      <td>0.016416</td>\n",
       "      <td>-0.016416</td>\n",
       "    </tr>\n",
       "    <tr>\n",
       "      <th>2088</th>\n",
       "      <td>nu Oph c</td>\n",
       "      <td>nu Oph</td>\n",
       "      <td>1</td>\n",
       "      <td>2</td>\n",
       "      <td>Radial Velocity</td>\n",
       "      <td>2012</td>\n",
       "      <td>Ground</td>\n",
       "      <td>Okayama Astrophysical Observatory</td>\n",
       "      <td>0</td>\n",
       "      <td>3184.830000</td>\n",
       "      <td>...</td>\n",
       "      <td>0.65</td>\n",
       "      <td>0.17</td>\n",
       "      <td>-0.17</td>\n",
       "      <td>0.0</td>\n",
       "      <td>46.2107</td>\n",
       "      <td>1.73313</td>\n",
       "      <td>-1.73313</td>\n",
       "      <td>3.09653</td>\n",
       "      <td>0.016416</td>\n",
       "      <td>-0.016416</td>\n",
       "    </tr>\n",
       "    <tr>\n",
       "      <th>2089</th>\n",
       "      <td>pi Men c</td>\n",
       "      <td>HD 39091</td>\n",
       "      <td>1</td>\n",
       "      <td>2</td>\n",
       "      <td>Transit</td>\n",
       "      <td>2018</td>\n",
       "      <td>Space</td>\n",
       "      <td>Transiting Exoplanet Survey Satellite (TESS)</td>\n",
       "      <td>0</td>\n",
       "      <td>6.268340</td>\n",
       "      <td>...</td>\n",
       "      <td>5.20</td>\n",
       "      <td>1.10</td>\n",
       "      <td>-1.10</td>\n",
       "      <td>0.0</td>\n",
       "      <td>18.2702</td>\n",
       "      <td>0.02260</td>\n",
       "      <td>-0.02260</td>\n",
       "      <td>5.51280</td>\n",
       "      <td>0.001946</td>\n",
       "      <td>-0.001946</td>\n",
       "    </tr>\n",
       "    <tr>\n",
       "      <th>2090</th>\n",
       "      <td>pi Men c</td>\n",
       "      <td>HD 39091</td>\n",
       "      <td>1</td>\n",
       "      <td>2</td>\n",
       "      <td>Transit</td>\n",
       "      <td>2018</td>\n",
       "      <td>Space</td>\n",
       "      <td>Transiting Exoplanet Survey Satellite (TESS)</td>\n",
       "      <td>0</td>\n",
       "      <td>6.267900</td>\n",
       "      <td>...</td>\n",
       "      <td>2.98</td>\n",
       "      <td>1.40</td>\n",
       "      <td>-1.30</td>\n",
       "      <td>0.0</td>\n",
       "      <td>18.2702</td>\n",
       "      <td>0.02260</td>\n",
       "      <td>-0.02260</td>\n",
       "      <td>5.51280</td>\n",
       "      <td>0.001946</td>\n",
       "      <td>-0.001946</td>\n",
       "    </tr>\n",
       "    <tr>\n",
       "      <th>2091</th>\n",
       "      <td>tau Boo b</td>\n",
       "      <td>tau Boo</td>\n",
       "      <td>2</td>\n",
       "      <td>1</td>\n",
       "      <td>Radial Velocity</td>\n",
       "      <td>1996</td>\n",
       "      <td>Ground</td>\n",
       "      <td>Roque de los Muchachos Observatory</td>\n",
       "      <td>0</td>\n",
       "      <td>3.312433</td>\n",
       "      <td>...</td>\n",
       "      <td>NaN</td>\n",
       "      <td>NaN</td>\n",
       "      <td>NaN</td>\n",
       "      <td>NaN</td>\n",
       "      <td>15.6521</td>\n",
       "      <td>0.08470</td>\n",
       "      <td>-0.08380</td>\n",
       "      <td>4.36617</td>\n",
       "      <td>0.006422</td>\n",
       "      <td>-0.006422</td>\n",
       "    </tr>\n",
       "  </tbody>\n",
       "</table>\n",
       "<p>2092 rows × 48 columns</p>\n",
       "</div>"
      ],
      "text/plain": [
       "                          pl_name                   hostname  sy_snum  \\\n",
       "0       2MASS J19383260+4603591 b    2MASS J19383260+4603591        2   \n",
       "1     2MASS J21402931+1625183 A b  2MASS J21402931+1625183 A        1   \n",
       "2                        51 Peg b                     51 Peg        1   \n",
       "3                        55 Cnc b                     55 Cnc        2   \n",
       "4                        55 Cnc b                     55 Cnc        2   \n",
       "...                           ...                        ...      ...   \n",
       "2087                     nu Oph b                     nu Oph        1   \n",
       "2088                     nu Oph c                     nu Oph        1   \n",
       "2089                     pi Men c                   HD 39091        1   \n",
       "2090                     pi Men c                   HD 39091        1   \n",
       "2091                    tau Boo b                    tau Boo        2   \n",
       "\n",
       "      sy_pnum            discoverymethod  disc_year disc_locale  \\\n",
       "0           1  Eclipse Timing Variations       2015       Space   \n",
       "1           1                    Imaging       2009      Ground   \n",
       "2           1            Radial Velocity       1995      Ground   \n",
       "3           5            Radial Velocity       1996      Ground   \n",
       "4           5            Radial Velocity       1996      Ground   \n",
       "...       ...                        ...        ...         ...   \n",
       "2087        2            Radial Velocity       2012      Ground   \n",
       "2088        2            Radial Velocity       2012      Ground   \n",
       "2089        2                    Transit       2018       Space   \n",
       "2090        2                    Transit       2018       Space   \n",
       "2091        1            Radial Velocity       1996      Ground   \n",
       "\n",
       "                                     disc_facility  pl_controv_flag  \\\n",
       "0                                           Kepler                0   \n",
       "1                           W. M. Keck Observatory                0   \n",
       "2                       Haute-Provence Observatory                0   \n",
       "3                                 Lick Observatory                0   \n",
       "4                                 Lick Observatory                0   \n",
       "...                                            ...              ...   \n",
       "2087             Okayama Astrophysical Observatory                0   \n",
       "2088             Okayama Astrophysical Observatory                0   \n",
       "2089  Transiting Exoplanet Survey Satellite (TESS)                0   \n",
       "2090  Transiting Exoplanet Survey Satellite (TESS)                0   \n",
       "2091            Roque de los Muchachos Observatory                0   \n",
       "\n",
       "        pl_orbper  ...  st_age  st_ageerr1  st_ageerr2  st_agelim   sy_dist  \\\n",
       "0      416.000000  ...     NaN         NaN         NaN        NaN  396.3320   \n",
       "1     7336.500000  ...     NaN         NaN         NaN        NaN       NaN   \n",
       "2        4.231000  ...     NaN         NaN         NaN        NaN   15.4614   \n",
       "3       14.600000  ...     NaN         NaN         NaN        NaN   12.5855   \n",
       "4       14.465314  ...     NaN         NaN         NaN        NaN   12.5855   \n",
       "...           ...  ...     ...         ...         ...        ...       ...   \n",
       "2087   530.210000  ...    0.65        0.17       -0.17        0.0   46.2107   \n",
       "2088  3184.830000  ...    0.65        0.17       -0.17        0.0   46.2107   \n",
       "2089     6.268340  ...    5.20        1.10       -1.10        0.0   18.2702   \n",
       "2090     6.267900  ...    2.98        1.40       -1.30        0.0   18.2702   \n",
       "2091     3.312433  ...     NaN         NaN         NaN        NaN   15.6521   \n",
       "\n",
       "      sy_disterr1  sy_disterr2  sy_gaiamag  sy_gaiamagerr1  sy_gaiamagerr2  \n",
       "0         6.38850     -6.38850    12.13760        0.003687       -0.003687  \n",
       "1             NaN          NaN    17.39610        0.004861       -0.004861  \n",
       "2         0.02970     -0.02970     5.28647        0.002768       -0.002768  \n",
       "3         0.01240     -0.01230     5.72973        0.000852       -0.000852  \n",
       "4         0.01240     -0.01230     5.72973        0.000852       -0.000852  \n",
       "...           ...          ...         ...             ...             ...  \n",
       "2087      1.73313     -1.73313     3.09653        0.016416       -0.016416  \n",
       "2088      1.73313     -1.73313     3.09653        0.016416       -0.016416  \n",
       "2089      0.02260     -0.02260     5.51280        0.001946       -0.001946  \n",
       "2090      0.02260     -0.02260     5.51280        0.001946       -0.001946  \n",
       "2091      0.08470     -0.08380     4.36617        0.006422       -0.006422  \n",
       "\n",
       "[2092 rows x 48 columns]"
      ]
     },
     "execution_count": 2,
     "metadata": {},
     "output_type": "execute_result"
    }
   ],
   "source": [
    "#imports .csv\n",
    "full_exoplanets = \"CSV_files/PS_2021HVD.csv\"\n",
    "#loads csv into dataframe\n",
    "full_df = pd.read_csv(full_exoplanets)\n",
    "full_df"
   ]
  },
  {
   "cell_type": "code",
   "execution_count": 3,
   "metadata": {},
   "outputs": [],
   "source": [
    "full_df=full_df.drop(['sy_gaiamagerr1', 'sy_gaiamagerr2', 'sy_disterr1', 'sy_disterr2', 'st_agelim', 'st_ageerr2',\n",
    "                      'st_ageerr1', 'pl_controv_flag','pl_orbpererr1', 'pl_orbpererr2', 'pl_orbperlim', 'pl_radjerr1',\n",
    "                      'pl_radjerr2', 'pl_radjlim','pl_masseerr2', 'pl_masselim', 'pl_masseerr1','pl_massjerr1',\n",
    "                      'pl_massjerr2', 'pl_massjlim', 'pl_eqterr1', 'pl_eqterr2', 'pl_eqtlim','st_tefferr1', 'st_tefferr2',\n",
    "                      'st_tefflim', 'st_masserr1', 'st_masserr2', 'st_masslim'], axis=1)"
   ]
  },
  {
   "cell_type": "code",
   "execution_count": 4,
   "metadata": {},
   "outputs": [
    {
     "data": {
      "text/plain": [
       "Index(['pl_name', 'hostname', 'sy_snum', 'sy_pnum', 'discoverymethod',\n",
       "       'disc_year', 'disc_locale', 'disc_facility', 'pl_orbper', 'pl_radj',\n",
       "       'pl_masse', 'pl_massj', 'pl_eqt', 'st_spectype', 'st_teff', 'st_mass',\n",
       "       'st_age', 'sy_dist', 'sy_gaiamag'],\n",
       "      dtype='object')"
      ]
     },
     "execution_count": 4,
     "metadata": {},
     "output_type": "execute_result"
    }
   ],
   "source": [
    "full_df.columns"
   ]
  },
  {
   "cell_type": "code",
   "execution_count": 5,
   "metadata": {},
   "outputs": [],
   "source": [
    "full_df=full_df.rename(columns={'pl_name': 'Planet Name',\n",
    "               'hostname':'Host Name',\n",
    "               'sy_snum':'Number of Stars',\n",
    "               'sy_pnum':'Number of Planets',\n",
    "               'discoverymethod': 'Discovery Method',\n",
    "               'disc_year':'Discovery Year',\n",
    "               'disc_locale':'Discovery Locale',\n",
    "               'disc_facility':'Discovery Facility',\n",
    "               'pl_orbper':'Orbital Period [days]',\n",
    "               'pl_radj':'Planet Radius [Jupiter Radius]',\n",
    "               'pl_masse':'Planet Mass [Earth Mass]',\n",
    "               'pl_massj':'Planet Mass [Jupiter Mass]',\n",
    "               'pl_eqt':'Equilibrium Temperature [K]',\n",
    "               'st_spectype':'Spectral Type',\n",
    "               'st_teff':'Stellar Effective Temperature [K]',\n",
    "               'st_mass':'Stellar Mass [Solar mass]',\n",
    "               'st_age':'Stellar Age [Gyr]',\n",
    "               'sy_dist':'Distance [pc]',\n",
    "               'sy_gaiamag':'Gaia Magnitude'}\n",
    ")"
   ]
  },
  {
   "cell_type": "code",
   "execution_count": 6,
   "metadata": {},
   "outputs": [
    {
     "data": {
      "text/plain": [
       "Planet Name                          2092\n",
       "Host Name                            2092\n",
       "Number of Stars                      2092\n",
       "Number of Planets                    2092\n",
       "Discovery Method                     2092\n",
       "Discovery Year                       2092\n",
       "Discovery Locale                     2092\n",
       "Discovery Facility                   2092\n",
       "Orbital Period [days]                2092\n",
       "Planet Radius [Jupiter Radius]       1938\n",
       "Planet Mass [Earth Mass]             2092\n",
       "Planet Mass [Jupiter Mass]           2092\n",
       "Equilibrium Temperature [K]           863\n",
       "Spectral Type                         467\n",
       "Stellar Effective Temperature [K]    1693\n",
       "Stellar Mass [Solar mass]            2027\n",
       "Stellar Age [Gyr]                    1088\n",
       "Distance [pc]                        2059\n",
       "Gaia Magnitude                       2064\n",
       "dtype: int64"
      ]
     },
     "execution_count": 6,
     "metadata": {},
     "output_type": "execute_result"
    }
   ],
   "source": [
    "full_df.count()"
   ]
  },
  {
   "cell_type": "code",
   "execution_count": 7,
   "metadata": {},
   "outputs": [
    {
     "data": {
      "text/html": [
       "<div>\n",
       "<style scoped>\n",
       "    .dataframe tbody tr th:only-of-type {\n",
       "        vertical-align: middle;\n",
       "    }\n",
       "\n",
       "    .dataframe tbody tr th {\n",
       "        vertical-align: top;\n",
       "    }\n",
       "\n",
       "    .dataframe thead th {\n",
       "        text-align: right;\n",
       "    }\n",
       "</style>\n",
       "<table border=\"1\" class=\"dataframe\">\n",
       "  <thead>\n",
       "    <tr style=\"text-align: right;\">\n",
       "      <th></th>\n",
       "      <th>Planet Name</th>\n",
       "      <th>Host Name</th>\n",
       "      <th>Number of Stars</th>\n",
       "      <th>Number of Planets</th>\n",
       "      <th>Discovery Method</th>\n",
       "      <th>Discovery Year</th>\n",
       "      <th>Discovery Locale</th>\n",
       "      <th>Discovery Facility</th>\n",
       "      <th>Orbital Period [days]</th>\n",
       "      <th>Planet Radius [Jupiter Radius]</th>\n",
       "      <th>Planet Mass [Earth Mass]</th>\n",
       "      <th>Planet Mass [Jupiter Mass]</th>\n",
       "      <th>Equilibrium Temperature [K]</th>\n",
       "      <th>Spectral Type</th>\n",
       "      <th>Stellar Effective Temperature [K]</th>\n",
       "      <th>Stellar Mass [Solar mass]</th>\n",
       "      <th>Stellar Age [Gyr]</th>\n",
       "      <th>Distance [pc]</th>\n",
       "      <th>Gaia Magnitude</th>\n",
       "    </tr>\n",
       "  </thead>\n",
       "  <tbody>\n",
       "    <tr>\n",
       "      <th>0</th>\n",
       "      <td>2MASS J19383260+4603591 b</td>\n",
       "      <td>2MASS J19383260+4603591</td>\n",
       "      <td>2</td>\n",
       "      <td>1</td>\n",
       "      <td>Eclipse Timing Variations</td>\n",
       "      <td>2015</td>\n",
       "      <td>Space</td>\n",
       "      <td>Kepler</td>\n",
       "      <td>416.000000</td>\n",
       "      <td>NaN</td>\n",
       "      <td>603.87700</td>\n",
       "      <td>1.90000</td>\n",
       "      <td>NaN</td>\n",
       "      <td>NaN</td>\n",
       "      <td>NaN</td>\n",
       "      <td>0.48</td>\n",
       "      <td>NaN</td>\n",
       "      <td>396.3320</td>\n",
       "      <td>12.13760</td>\n",
       "    </tr>\n",
       "    <tr>\n",
       "      <th>1</th>\n",
       "      <td>2MASS J21402931+1625183 A b</td>\n",
       "      <td>2MASS J21402931+1625183 A</td>\n",
       "      <td>1</td>\n",
       "      <td>1</td>\n",
       "      <td>Imaging</td>\n",
       "      <td>2009</td>\n",
       "      <td>Ground</td>\n",
       "      <td>W. M. Keck Observatory</td>\n",
       "      <td>7336.500000</td>\n",
       "      <td>0.920</td>\n",
       "      <td>6657.48000</td>\n",
       "      <td>20.95000</td>\n",
       "      <td>2075.0</td>\n",
       "      <td>M8.5</td>\n",
       "      <td>2300.0</td>\n",
       "      <td>0.08</td>\n",
       "      <td>NaN</td>\n",
       "      <td>NaN</td>\n",
       "      <td>17.39610</td>\n",
       "    </tr>\n",
       "    <tr>\n",
       "      <th>2</th>\n",
       "      <td>51 Peg b</td>\n",
       "      <td>51 Peg</td>\n",
       "      <td>1</td>\n",
       "      <td>1</td>\n",
       "      <td>Radial Velocity</td>\n",
       "      <td>1995</td>\n",
       "      <td>Ground</td>\n",
       "      <td>Haute-Provence Observatory</td>\n",
       "      <td>4.231000</td>\n",
       "      <td>NaN</td>\n",
       "      <td>146.20180</td>\n",
       "      <td>0.46000</td>\n",
       "      <td>NaN</td>\n",
       "      <td>NaN</td>\n",
       "      <td>NaN</td>\n",
       "      <td>1.04</td>\n",
       "      <td>NaN</td>\n",
       "      <td>15.4614</td>\n",
       "      <td>5.28647</td>\n",
       "    </tr>\n",
       "    <tr>\n",
       "      <th>3</th>\n",
       "      <td>55 Cnc b</td>\n",
       "      <td>55 Cnc</td>\n",
       "      <td>2</td>\n",
       "      <td>5</td>\n",
       "      <td>Radial Velocity</td>\n",
       "      <td>1996</td>\n",
       "      <td>Ground</td>\n",
       "      <td>Lick Observatory</td>\n",
       "      <td>14.600000</td>\n",
       "      <td>NaN</td>\n",
       "      <td>254.25000</td>\n",
       "      <td>0.80000</td>\n",
       "      <td>700.0</td>\n",
       "      <td>K0 IV-V</td>\n",
       "      <td>NaN</td>\n",
       "      <td>NaN</td>\n",
       "      <td>NaN</td>\n",
       "      <td>12.5855</td>\n",
       "      <td>5.72973</td>\n",
       "    </tr>\n",
       "    <tr>\n",
       "      <th>4</th>\n",
       "      <td>55 Cnc b</td>\n",
       "      <td>55 Cnc</td>\n",
       "      <td>2</td>\n",
       "      <td>5</td>\n",
       "      <td>Radial Velocity</td>\n",
       "      <td>1996</td>\n",
       "      <td>Ground</td>\n",
       "      <td>Lick Observatory</td>\n",
       "      <td>14.465314</td>\n",
       "      <td>NaN</td>\n",
       "      <td>266.96600</td>\n",
       "      <td>0.84000</td>\n",
       "      <td>NaN</td>\n",
       "      <td>NaN</td>\n",
       "      <td>5250.0</td>\n",
       "      <td>0.90</td>\n",
       "      <td>NaN</td>\n",
       "      <td>12.5855</td>\n",
       "      <td>5.72973</td>\n",
       "    </tr>\n",
       "    <tr>\n",
       "      <th>...</th>\n",
       "      <td>...</td>\n",
       "      <td>...</td>\n",
       "      <td>...</td>\n",
       "      <td>...</td>\n",
       "      <td>...</td>\n",
       "      <td>...</td>\n",
       "      <td>...</td>\n",
       "      <td>...</td>\n",
       "      <td>...</td>\n",
       "      <td>...</td>\n",
       "      <td>...</td>\n",
       "      <td>...</td>\n",
       "      <td>...</td>\n",
       "      <td>...</td>\n",
       "      <td>...</td>\n",
       "      <td>...</td>\n",
       "      <td>...</td>\n",
       "      <td>...</td>\n",
       "      <td>...</td>\n",
       "    </tr>\n",
       "    <tr>\n",
       "      <th>2087</th>\n",
       "      <td>nu Oph b</td>\n",
       "      <td>nu Oph</td>\n",
       "      <td>1</td>\n",
       "      <td>2</td>\n",
       "      <td>Radial Velocity</td>\n",
       "      <td>2012</td>\n",
       "      <td>Ground</td>\n",
       "      <td>Okayama Astrophysical Observatory</td>\n",
       "      <td>530.210000</td>\n",
       "      <td>NaN</td>\n",
       "      <td>7057.73298</td>\n",
       "      <td>22.20600</td>\n",
       "      <td>NaN</td>\n",
       "      <td>K0 III</td>\n",
       "      <td>4886.0</td>\n",
       "      <td>2.70</td>\n",
       "      <td>0.65</td>\n",
       "      <td>46.2107</td>\n",
       "      <td>3.09653</td>\n",
       "    </tr>\n",
       "    <tr>\n",
       "      <th>2088</th>\n",
       "      <td>nu Oph c</td>\n",
       "      <td>nu Oph</td>\n",
       "      <td>1</td>\n",
       "      <td>2</td>\n",
       "      <td>Radial Velocity</td>\n",
       "      <td>2012</td>\n",
       "      <td>Ground</td>\n",
       "      <td>Okayama Astrophysical Observatory</td>\n",
       "      <td>3184.830000</td>\n",
       "      <td>NaN</td>\n",
       "      <td>7838.32346</td>\n",
       "      <td>24.66200</td>\n",
       "      <td>NaN</td>\n",
       "      <td>K0 III</td>\n",
       "      <td>4886.0</td>\n",
       "      <td>2.70</td>\n",
       "      <td>0.65</td>\n",
       "      <td>46.2107</td>\n",
       "      <td>3.09653</td>\n",
       "    </tr>\n",
       "    <tr>\n",
       "      <th>2089</th>\n",
       "      <td>pi Men c</td>\n",
       "      <td>HD 39091</td>\n",
       "      <td>1</td>\n",
       "      <td>2</td>\n",
       "      <td>Transit</td>\n",
       "      <td>2018</td>\n",
       "      <td>Space</td>\n",
       "      <td>Transiting Exoplanet Survey Satellite (TESS)</td>\n",
       "      <td>6.268340</td>\n",
       "      <td>0.184</td>\n",
       "      <td>4.52000</td>\n",
       "      <td>0.01422</td>\n",
       "      <td>1147.0</td>\n",
       "      <td>NaN</td>\n",
       "      <td>5870.0</td>\n",
       "      <td>1.02</td>\n",
       "      <td>5.20</td>\n",
       "      <td>18.2702</td>\n",
       "      <td>5.51280</td>\n",
       "    </tr>\n",
       "    <tr>\n",
       "      <th>2090</th>\n",
       "      <td>pi Men c</td>\n",
       "      <td>HD 39091</td>\n",
       "      <td>1</td>\n",
       "      <td>2</td>\n",
       "      <td>Transit</td>\n",
       "      <td>2018</td>\n",
       "      <td>Space</td>\n",
       "      <td>Transiting Exoplanet Survey Satellite (TESS)</td>\n",
       "      <td>6.267900</td>\n",
       "      <td>0.182</td>\n",
       "      <td>4.82000</td>\n",
       "      <td>0.01517</td>\n",
       "      <td>1170.0</td>\n",
       "      <td>G0 V</td>\n",
       "      <td>6037.0</td>\n",
       "      <td>1.09</td>\n",
       "      <td>2.98</td>\n",
       "      <td>18.2702</td>\n",
       "      <td>5.51280</td>\n",
       "    </tr>\n",
       "    <tr>\n",
       "      <th>2091</th>\n",
       "      <td>tau Boo b</td>\n",
       "      <td>tau Boo</td>\n",
       "      <td>2</td>\n",
       "      <td>1</td>\n",
       "      <td>Radial Velocity</td>\n",
       "      <td>1996</td>\n",
       "      <td>Ground</td>\n",
       "      <td>Roque de los Muchachos Observatory</td>\n",
       "      <td>3.312433</td>\n",
       "      <td>NaN</td>\n",
       "      <td>1891.00000</td>\n",
       "      <td>5.95000</td>\n",
       "      <td>NaN</td>\n",
       "      <td>NaN</td>\n",
       "      <td>6400.0</td>\n",
       "      <td>1.34</td>\n",
       "      <td>NaN</td>\n",
       "      <td>15.6521</td>\n",
       "      <td>4.36617</td>\n",
       "    </tr>\n",
       "  </tbody>\n",
       "</table>\n",
       "<p>2092 rows × 19 columns</p>\n",
       "</div>"
      ],
      "text/plain": [
       "                      Planet Name                  Host Name  Number of Stars  \\\n",
       "0       2MASS J19383260+4603591 b    2MASS J19383260+4603591                2   \n",
       "1     2MASS J21402931+1625183 A b  2MASS J21402931+1625183 A                1   \n",
       "2                        51 Peg b                     51 Peg                1   \n",
       "3                        55 Cnc b                     55 Cnc                2   \n",
       "4                        55 Cnc b                     55 Cnc                2   \n",
       "...                           ...                        ...              ...   \n",
       "2087                     nu Oph b                     nu Oph                1   \n",
       "2088                     nu Oph c                     nu Oph                1   \n",
       "2089                     pi Men c                   HD 39091                1   \n",
       "2090                     pi Men c                   HD 39091                1   \n",
       "2091                    tau Boo b                    tau Boo                2   \n",
       "\n",
       "      Number of Planets           Discovery Method  Discovery Year  \\\n",
       "0                     1  Eclipse Timing Variations            2015   \n",
       "1                     1                    Imaging            2009   \n",
       "2                     1            Radial Velocity            1995   \n",
       "3                     5            Radial Velocity            1996   \n",
       "4                     5            Radial Velocity            1996   \n",
       "...                 ...                        ...             ...   \n",
       "2087                  2            Radial Velocity            2012   \n",
       "2088                  2            Radial Velocity            2012   \n",
       "2089                  2                    Transit            2018   \n",
       "2090                  2                    Transit            2018   \n",
       "2091                  1            Radial Velocity            1996   \n",
       "\n",
       "     Discovery Locale                            Discovery Facility  \\\n",
       "0               Space                                        Kepler   \n",
       "1              Ground                        W. M. Keck Observatory   \n",
       "2              Ground                    Haute-Provence Observatory   \n",
       "3              Ground                              Lick Observatory   \n",
       "4              Ground                              Lick Observatory   \n",
       "...               ...                                           ...   \n",
       "2087           Ground             Okayama Astrophysical Observatory   \n",
       "2088           Ground             Okayama Astrophysical Observatory   \n",
       "2089            Space  Transiting Exoplanet Survey Satellite (TESS)   \n",
       "2090            Space  Transiting Exoplanet Survey Satellite (TESS)   \n",
       "2091           Ground            Roque de los Muchachos Observatory   \n",
       "\n",
       "      Orbital Period [days]  Planet Radius [Jupiter Radius]  \\\n",
       "0                416.000000                             NaN   \n",
       "1               7336.500000                           0.920   \n",
       "2                  4.231000                             NaN   \n",
       "3                 14.600000                             NaN   \n",
       "4                 14.465314                             NaN   \n",
       "...                     ...                             ...   \n",
       "2087             530.210000                             NaN   \n",
       "2088            3184.830000                             NaN   \n",
       "2089               6.268340                           0.184   \n",
       "2090               6.267900                           0.182   \n",
       "2091               3.312433                             NaN   \n",
       "\n",
       "      Planet Mass [Earth Mass]  Planet Mass [Jupiter Mass]  \\\n",
       "0                    603.87700                     1.90000   \n",
       "1                   6657.48000                    20.95000   \n",
       "2                    146.20180                     0.46000   \n",
       "3                    254.25000                     0.80000   \n",
       "4                    266.96600                     0.84000   \n",
       "...                        ...                         ...   \n",
       "2087                7057.73298                    22.20600   \n",
       "2088                7838.32346                    24.66200   \n",
       "2089                   4.52000                     0.01422   \n",
       "2090                   4.82000                     0.01517   \n",
       "2091                1891.00000                     5.95000   \n",
       "\n",
       "      Equilibrium Temperature [K] Spectral Type  \\\n",
       "0                             NaN           NaN   \n",
       "1                          2075.0          M8.5   \n",
       "2                             NaN           NaN   \n",
       "3                           700.0       K0 IV-V   \n",
       "4                             NaN           NaN   \n",
       "...                           ...           ...   \n",
       "2087                          NaN        K0 III   \n",
       "2088                          NaN        K0 III   \n",
       "2089                       1147.0           NaN   \n",
       "2090                       1170.0          G0 V   \n",
       "2091                          NaN           NaN   \n",
       "\n",
       "      Stellar Effective Temperature [K]  Stellar Mass [Solar mass]  \\\n",
       "0                                   NaN                       0.48   \n",
       "1                                2300.0                       0.08   \n",
       "2                                   NaN                       1.04   \n",
       "3                                   NaN                        NaN   \n",
       "4                                5250.0                       0.90   \n",
       "...                                 ...                        ...   \n",
       "2087                             4886.0                       2.70   \n",
       "2088                             4886.0                       2.70   \n",
       "2089                             5870.0                       1.02   \n",
       "2090                             6037.0                       1.09   \n",
       "2091                             6400.0                       1.34   \n",
       "\n",
       "      Stellar Age [Gyr]  Distance [pc]  Gaia Magnitude  \n",
       "0                   NaN       396.3320        12.13760  \n",
       "1                   NaN            NaN        17.39610  \n",
       "2                   NaN        15.4614         5.28647  \n",
       "3                   NaN        12.5855         5.72973  \n",
       "4                   NaN        12.5855         5.72973  \n",
       "...                 ...            ...             ...  \n",
       "2087               0.65        46.2107         3.09653  \n",
       "2088               0.65        46.2107         3.09653  \n",
       "2089               5.20        18.2702         5.51280  \n",
       "2090               2.98        18.2702         5.51280  \n",
       "2091                NaN        15.6521         4.36617  \n",
       "\n",
       "[2092 rows x 19 columns]"
      ]
     },
     "execution_count": 7,
     "metadata": {},
     "output_type": "execute_result"
    }
   ],
   "source": [
    "full_df"
   ]
  },
  {
   "cell_type": "code",
   "execution_count": 8,
   "metadata": {},
   "outputs": [
    {
     "data": {
      "text/html": [
       "<div>\n",
       "<style scoped>\n",
       "    .dataframe tbody tr th:only-of-type {\n",
       "        vertical-align: middle;\n",
       "    }\n",
       "\n",
       "    .dataframe tbody tr th {\n",
       "        vertical-align: top;\n",
       "    }\n",
       "\n",
       "    .dataframe thead th {\n",
       "        text-align: right;\n",
       "    }\n",
       "</style>\n",
       "<table border=\"1\" class=\"dataframe\">\n",
       "  <thead>\n",
       "    <tr style=\"text-align: right;\">\n",
       "      <th></th>\n",
       "      <th>Planet Name</th>\n",
       "      <th>Host Name</th>\n",
       "      <th>Number of Stars</th>\n",
       "      <th>Number of Planets</th>\n",
       "      <th>Discovery Method</th>\n",
       "      <th>Discovery Year</th>\n",
       "      <th>Discovery Locale</th>\n",
       "      <th>Discovery Facility</th>\n",
       "      <th>Orbital Period [days]</th>\n",
       "      <th>Planet Radius [Jupiter Radius]</th>\n",
       "      <th>Planet Mass [Earth Mass]</th>\n",
       "      <th>Planet Mass [Jupiter Mass]</th>\n",
       "      <th>Equilibrium Temperature [K]</th>\n",
       "      <th>Spectral Type</th>\n",
       "      <th>Stellar Effective Temperature [K]</th>\n",
       "      <th>Stellar Mass [Solar mass]</th>\n",
       "      <th>Stellar Age [Gyr]</th>\n",
       "      <th>Distance [pc]</th>\n",
       "      <th>Gaia Magnitude</th>\n",
       "    </tr>\n",
       "  </thead>\n",
       "  <tbody>\n",
       "    <tr>\n",
       "      <th>0</th>\n",
       "      <td>2MASS J19383260+4603591 b</td>\n",
       "      <td>2MASS J19383260+4603591</td>\n",
       "      <td>2</td>\n",
       "      <td>1</td>\n",
       "      <td>Eclipse Timing Variations</td>\n",
       "      <td>2015</td>\n",
       "      <td>Space</td>\n",
       "      <td>Kepler</td>\n",
       "      <td>416.000000</td>\n",
       "      <td>NaN</td>\n",
       "      <td>603.87700</td>\n",
       "      <td>1.900</td>\n",
       "      <td>NaN</td>\n",
       "      <td>NaN</td>\n",
       "      <td>NaN</td>\n",
       "      <td>0.48</td>\n",
       "      <td>NaN</td>\n",
       "      <td>396.33200</td>\n",
       "      <td>12.13760</td>\n",
       "    </tr>\n",
       "    <tr>\n",
       "      <th>1</th>\n",
       "      <td>2MASS J21402931+1625183 A b</td>\n",
       "      <td>2MASS J21402931+1625183 A</td>\n",
       "      <td>1</td>\n",
       "      <td>1</td>\n",
       "      <td>Imaging</td>\n",
       "      <td>2009</td>\n",
       "      <td>Ground</td>\n",
       "      <td>W. M. Keck Observatory</td>\n",
       "      <td>7336.500000</td>\n",
       "      <td>0.92</td>\n",
       "      <td>6657.48000</td>\n",
       "      <td>20.950</td>\n",
       "      <td>2075.0</td>\n",
       "      <td>M8.5</td>\n",
       "      <td>2300.0</td>\n",
       "      <td>0.08</td>\n",
       "      <td>NaN</td>\n",
       "      <td>NaN</td>\n",
       "      <td>17.39610</td>\n",
       "    </tr>\n",
       "    <tr>\n",
       "      <th>2</th>\n",
       "      <td>51 Peg b</td>\n",
       "      <td>51 Peg</td>\n",
       "      <td>1</td>\n",
       "      <td>1</td>\n",
       "      <td>Radial Velocity</td>\n",
       "      <td>1995</td>\n",
       "      <td>Ground</td>\n",
       "      <td>Haute-Provence Observatory</td>\n",
       "      <td>4.231000</td>\n",
       "      <td>NaN</td>\n",
       "      <td>146.20180</td>\n",
       "      <td>0.460</td>\n",
       "      <td>NaN</td>\n",
       "      <td>NaN</td>\n",
       "      <td>NaN</td>\n",
       "      <td>1.04</td>\n",
       "      <td>NaN</td>\n",
       "      <td>15.46140</td>\n",
       "      <td>5.28647</td>\n",
       "    </tr>\n",
       "    <tr>\n",
       "      <th>3</th>\n",
       "      <td>55 Cnc b</td>\n",
       "      <td>55 Cnc</td>\n",
       "      <td>2</td>\n",
       "      <td>5</td>\n",
       "      <td>Radial Velocity</td>\n",
       "      <td>1996</td>\n",
       "      <td>Ground</td>\n",
       "      <td>Lick Observatory</td>\n",
       "      <td>14.600000</td>\n",
       "      <td>NaN</td>\n",
       "      <td>254.25000</td>\n",
       "      <td>0.800</td>\n",
       "      <td>700.0</td>\n",
       "      <td>K0 IV-V</td>\n",
       "      <td>NaN</td>\n",
       "      <td>NaN</td>\n",
       "      <td>NaN</td>\n",
       "      <td>12.58550</td>\n",
       "      <td>5.72973</td>\n",
       "    </tr>\n",
       "    <tr>\n",
       "      <th>20</th>\n",
       "      <td>70 Vir b</td>\n",
       "      <td>70 Vir</td>\n",
       "      <td>1</td>\n",
       "      <td>1</td>\n",
       "      <td>Radial Velocity</td>\n",
       "      <td>1996</td>\n",
       "      <td>Ground</td>\n",
       "      <td>Lick Observatory</td>\n",
       "      <td>116.688400</td>\n",
       "      <td>NaN</td>\n",
       "      <td>2380.45000</td>\n",
       "      <td>7.490</td>\n",
       "      <td>NaN</td>\n",
       "      <td>NaN</td>\n",
       "      <td>5545.0</td>\n",
       "      <td>1.11</td>\n",
       "      <td>8.00</td>\n",
       "      <td>17.90110</td>\n",
       "      <td>4.76178</td>\n",
       "    </tr>\n",
       "    <tr>\n",
       "      <th>...</th>\n",
       "      <td>...</td>\n",
       "      <td>...</td>\n",
       "      <td>...</td>\n",
       "      <td>...</td>\n",
       "      <td>...</td>\n",
       "      <td>...</td>\n",
       "      <td>...</td>\n",
       "      <td>...</td>\n",
       "      <td>...</td>\n",
       "      <td>...</td>\n",
       "      <td>...</td>\n",
       "      <td>...</td>\n",
       "      <td>...</td>\n",
       "      <td>...</td>\n",
       "      <td>...</td>\n",
       "      <td>...</td>\n",
       "      <td>...</td>\n",
       "      <td>...</td>\n",
       "      <td>...</td>\n",
       "    </tr>\n",
       "    <tr>\n",
       "      <th>2079</th>\n",
       "      <td>eps Eri b</td>\n",
       "      <td>eps Eri</td>\n",
       "      <td>1</td>\n",
       "      <td>1</td>\n",
       "      <td>Radial Velocity</td>\n",
       "      <td>2000</td>\n",
       "      <td>Ground</td>\n",
       "      <td>Multiple Observatories</td>\n",
       "      <td>2502.100000</td>\n",
       "      <td>NaN</td>\n",
       "      <td>540.31100</td>\n",
       "      <td>1.700</td>\n",
       "      <td>NaN</td>\n",
       "      <td>NaN</td>\n",
       "      <td>NaN</td>\n",
       "      <td>0.85</td>\n",
       "      <td>1.00</td>\n",
       "      <td>3.20260</td>\n",
       "      <td>3.47719</td>\n",
       "    </tr>\n",
       "    <tr>\n",
       "      <th>2082</th>\n",
       "      <td>eps Ind A b</td>\n",
       "      <td>eps Ind A</td>\n",
       "      <td>3</td>\n",
       "      <td>1</td>\n",
       "      <td>Radial Velocity</td>\n",
       "      <td>2019</td>\n",
       "      <td>Ground</td>\n",
       "      <td>La Silla Observatory</td>\n",
       "      <td>16510.000000</td>\n",
       "      <td>NaN</td>\n",
       "      <td>1032.94750</td>\n",
       "      <td>3.250</td>\n",
       "      <td>NaN</td>\n",
       "      <td>K2 V</td>\n",
       "      <td>NaN</td>\n",
       "      <td>0.75</td>\n",
       "      <td>4.70</td>\n",
       "      <td>3.63857</td>\n",
       "      <td>4.34562</td>\n",
       "    </tr>\n",
       "    <tr>\n",
       "      <th>2083</th>\n",
       "      <td>kap CrB b</td>\n",
       "      <td>kap CrB</td>\n",
       "      <td>1</td>\n",
       "      <td>1</td>\n",
       "      <td>Radial Velocity</td>\n",
       "      <td>2007</td>\n",
       "      <td>Ground</td>\n",
       "      <td>Lick Observatory</td>\n",
       "      <td>1261.940000</td>\n",
       "      <td>NaN</td>\n",
       "      <td>635.66000</td>\n",
       "      <td>2.000</td>\n",
       "      <td>NaN</td>\n",
       "      <td>NaN</td>\n",
       "      <td>4871.0</td>\n",
       "      <td>NaN</td>\n",
       "      <td>NaN</td>\n",
       "      <td>30.06510</td>\n",
       "      <td>4.52428</td>\n",
       "    </tr>\n",
       "    <tr>\n",
       "      <th>2087</th>\n",
       "      <td>nu Oph b</td>\n",
       "      <td>nu Oph</td>\n",
       "      <td>1</td>\n",
       "      <td>2</td>\n",
       "      <td>Radial Velocity</td>\n",
       "      <td>2012</td>\n",
       "      <td>Ground</td>\n",
       "      <td>Okayama Astrophysical Observatory</td>\n",
       "      <td>530.210000</td>\n",
       "      <td>NaN</td>\n",
       "      <td>7057.73298</td>\n",
       "      <td>22.206</td>\n",
       "      <td>NaN</td>\n",
       "      <td>K0 III</td>\n",
       "      <td>4886.0</td>\n",
       "      <td>2.70</td>\n",
       "      <td>0.65</td>\n",
       "      <td>46.21070</td>\n",
       "      <td>3.09653</td>\n",
       "    </tr>\n",
       "    <tr>\n",
       "      <th>2091</th>\n",
       "      <td>tau Boo b</td>\n",
       "      <td>tau Boo</td>\n",
       "      <td>2</td>\n",
       "      <td>1</td>\n",
       "      <td>Radial Velocity</td>\n",
       "      <td>1996</td>\n",
       "      <td>Ground</td>\n",
       "      <td>Roque de los Muchachos Observatory</td>\n",
       "      <td>3.312433</td>\n",
       "      <td>NaN</td>\n",
       "      <td>1891.00000</td>\n",
       "      <td>5.950</td>\n",
       "      <td>NaN</td>\n",
       "      <td>NaN</td>\n",
       "      <td>6400.0</td>\n",
       "      <td>1.34</td>\n",
       "      <td>NaN</td>\n",
       "      <td>15.65210</td>\n",
       "      <td>4.36617</td>\n",
       "    </tr>\n",
       "  </tbody>\n",
       "</table>\n",
       "<p>787 rows × 19 columns</p>\n",
       "</div>"
      ],
      "text/plain": [
       "                      Planet Name                  Host Name  Number of Stars  \\\n",
       "0       2MASS J19383260+4603591 b    2MASS J19383260+4603591                2   \n",
       "1     2MASS J21402931+1625183 A b  2MASS J21402931+1625183 A                1   \n",
       "2                        51 Peg b                     51 Peg                1   \n",
       "3                        55 Cnc b                     55 Cnc                2   \n",
       "20                       70 Vir b                     70 Vir                1   \n",
       "...                           ...                        ...              ...   \n",
       "2079                    eps Eri b                    eps Eri                1   \n",
       "2082                  eps Ind A b                  eps Ind A                3   \n",
       "2083                    kap CrB b                    kap CrB                1   \n",
       "2087                     nu Oph b                     nu Oph                1   \n",
       "2091                    tau Boo b                    tau Boo                2   \n",
       "\n",
       "      Number of Planets           Discovery Method  Discovery Year  \\\n",
       "0                     1  Eclipse Timing Variations            2015   \n",
       "1                     1                    Imaging            2009   \n",
       "2                     1            Radial Velocity            1995   \n",
       "3                     5            Radial Velocity            1996   \n",
       "20                    1            Radial Velocity            1996   \n",
       "...                 ...                        ...             ...   \n",
       "2079                  1            Radial Velocity            2000   \n",
       "2082                  1            Radial Velocity            2019   \n",
       "2083                  1            Radial Velocity            2007   \n",
       "2087                  2            Radial Velocity            2012   \n",
       "2091                  1            Radial Velocity            1996   \n",
       "\n",
       "     Discovery Locale                  Discovery Facility  \\\n",
       "0               Space                              Kepler   \n",
       "1              Ground              W. M. Keck Observatory   \n",
       "2              Ground          Haute-Provence Observatory   \n",
       "3              Ground                    Lick Observatory   \n",
       "20             Ground                    Lick Observatory   \n",
       "...               ...                                 ...   \n",
       "2079           Ground              Multiple Observatories   \n",
       "2082           Ground                La Silla Observatory   \n",
       "2083           Ground                    Lick Observatory   \n",
       "2087           Ground   Okayama Astrophysical Observatory   \n",
       "2091           Ground  Roque de los Muchachos Observatory   \n",
       "\n",
       "      Orbital Period [days]  Planet Radius [Jupiter Radius]  \\\n",
       "0                416.000000                             NaN   \n",
       "1               7336.500000                            0.92   \n",
       "2                  4.231000                             NaN   \n",
       "3                 14.600000                             NaN   \n",
       "20               116.688400                             NaN   \n",
       "...                     ...                             ...   \n",
       "2079            2502.100000                             NaN   \n",
       "2082           16510.000000                             NaN   \n",
       "2083            1261.940000                             NaN   \n",
       "2087             530.210000                             NaN   \n",
       "2091               3.312433                             NaN   \n",
       "\n",
       "      Planet Mass [Earth Mass]  Planet Mass [Jupiter Mass]  \\\n",
       "0                    603.87700                       1.900   \n",
       "1                   6657.48000                      20.950   \n",
       "2                    146.20180                       0.460   \n",
       "3                    254.25000                       0.800   \n",
       "20                  2380.45000                       7.490   \n",
       "...                        ...                         ...   \n",
       "2079                 540.31100                       1.700   \n",
       "2082                1032.94750                       3.250   \n",
       "2083                 635.66000                       2.000   \n",
       "2087                7057.73298                      22.206   \n",
       "2091                1891.00000                       5.950   \n",
       "\n",
       "      Equilibrium Temperature [K] Spectral Type  \\\n",
       "0                             NaN           NaN   \n",
       "1                          2075.0          M8.5   \n",
       "2                             NaN           NaN   \n",
       "3                           700.0       K0 IV-V   \n",
       "20                            NaN           NaN   \n",
       "...                           ...           ...   \n",
       "2079                          NaN           NaN   \n",
       "2082                          NaN          K2 V   \n",
       "2083                          NaN           NaN   \n",
       "2087                          NaN        K0 III   \n",
       "2091                          NaN           NaN   \n",
       "\n",
       "      Stellar Effective Temperature [K]  Stellar Mass [Solar mass]  \\\n",
       "0                                   NaN                       0.48   \n",
       "1                                2300.0                       0.08   \n",
       "2                                   NaN                       1.04   \n",
       "3                                   NaN                        NaN   \n",
       "20                               5545.0                       1.11   \n",
       "...                                 ...                        ...   \n",
       "2079                                NaN                       0.85   \n",
       "2082                                NaN                       0.75   \n",
       "2083                             4871.0                        NaN   \n",
       "2087                             4886.0                       2.70   \n",
       "2091                             6400.0                       1.34   \n",
       "\n",
       "      Stellar Age [Gyr]  Distance [pc]  Gaia Magnitude  \n",
       "0                   NaN      396.33200        12.13760  \n",
       "1                   NaN            NaN        17.39610  \n",
       "2                   NaN       15.46140         5.28647  \n",
       "3                   NaN       12.58550         5.72973  \n",
       "20                 8.00       17.90110         4.76178  \n",
       "...                 ...            ...             ...  \n",
       "2079               1.00        3.20260         3.47719  \n",
       "2082               4.70        3.63857         4.34562  \n",
       "2083                NaN       30.06510         4.52428  \n",
       "2087               0.65       46.21070         3.09653  \n",
       "2091                NaN       15.65210         4.36617  \n",
       "\n",
       "[787 rows x 19 columns]"
      ]
     },
     "execution_count": 8,
     "metadata": {},
     "output_type": "execute_result"
    }
   ],
   "source": [
    "star_specific= full_df.drop_duplicates('Host Name')\n",
    "star_specific"
   ]
  },
  {
   "cell_type": "code",
   "execution_count": 9,
   "metadata": {},
   "outputs": [
    {
     "name": "stderr",
     "output_type": "stream",
     "text": [
      "C:\\Users\\Crazyspaceman\\anaconda3\\lib\\site-packages\\pandas\\core\\frame.py:3990: SettingWithCopyWarning: \n",
      "A value is trying to be set on a copy of a slice from a DataFrame\n",
      "\n",
      "See the caveats in the documentation: https://pandas.pydata.org/pandas-docs/stable/user_guide/indexing.html#returning-a-view-versus-a-copy\n",
      "  return super().drop(\n"
     ]
    },
    {
     "data": {
      "text/plain": [
       "Planet Name                          1936\n",
       "Host Name                            1936\n",
       "Number of Stars                      1936\n",
       "Number of Planets                    1936\n",
       "Discovery Method                     1936\n",
       "Discovery Year                       1936\n",
       "Discovery Locale                     1936\n",
       "Discovery Facility                   1936\n",
       "Orbital Period [days]                1936\n",
       "Planet Radius [Jupiter Radius]       1936\n",
       "Planet Mass [Earth Mass]             1936\n",
       "Planet Mass [Jupiter Mass]           1936\n",
       "Equilibrium Temperature [K]           852\n",
       "Spectral Type                         440\n",
       "Stellar Effective Temperature [K]    1598\n",
       "Stellar Mass [Solar mass]            1883\n",
       "Stellar Age [Gyr]                    1035\n",
       "Distance [pc]                        1909\n",
       "Gaia Magnitude                       1924\n",
       "dtype: int64"
      ]
     },
     "execution_count": 9,
     "metadata": {},
     "output_type": "execute_result"
    }
   ],
   "source": [
    "size = full_df.dropna(subset=['Planet Radius [Jupiter Radius]', 'Planet Mass [Jupiter Mass]'])\n",
    "size.drop(size.index[size['Planet Radius [Jupiter Radius]'] == 0], inplace = True)\n",
    "size.drop(size.index[size['Planet Radius [Jupiter Radius]'] >= 3], inplace = True)\n",
    "size.drop(size.index[size['Planet Mass [Jupiter Mass]'] == 0], inplace = True)\n",
    "size.drop(size.index[size['Planet Mass [Jupiter Mass]'] >= 40], inplace = True)\n",
    "size.drop(size.index[size['Orbital Period [days]'] == 0], inplace = True)\n",
    "#size = full_df.dropna(full_df['Planet Radius [Jupiter Radius]'])\n",
    "size.count()"
   ]
  },
  {
   "cell_type": "code",
   "execution_count": 68,
   "metadata": {},
   "outputs": [
    {
     "data": {
      "image/png": "[encoded data removed]",
      "text/plain": [
       "<Figure size 720x720 with 1 Axes>"
      ]
     },
     "metadata": {
      "needs_background": "light"
     },
     "output_type": "display_data"
    }
   ],
   "source": [
    "plt.figure(figsize=(10, 10))\n",
    "plt.scatter(size['Planet Radius [Jupiter Radius]'], size['Planet Mass [Jupiter Mass]'])\n",
    "plt.savefig('./Images/RadiusJvsMassJ')"
   ]
  },
  {
   "cell_type": "code",
   "execution_count": 11,
   "metadata": {},
   "outputs": [
    {
     "data": {
      "text/plain": [
       "Planet Name                          640\n",
       "Host Name                            640\n",
       "Number of Stars                      640\n",
       "Number of Planets                    640\n",
       "Discovery Method                     640\n",
       "Discovery Year                       640\n",
       "Discovery Locale                     640\n",
       "Discovery Facility                   640\n",
       "Orbital Period [days]                640\n",
       "Planet Radius [Jupiter Radius]       640\n",
       "Planet Mass [Earth Mass]             640\n",
       "Planet Mass [Jupiter Mass]           640\n",
       "Equilibrium Temperature [K]          206\n",
       "Spectral Type                        121\n",
       "Stellar Effective Temperature [K]    395\n",
       "Stellar Mass [Solar mass]            637\n",
       "Stellar Age [Gyr]                    255\n",
       "Distance [pc]                        632\n",
       "Gaia Magnitude                       640\n",
       "dtype: int64"
      ]
     },
     "execution_count": 11,
     "metadata": {},
     "output_type": "execute_result"
    }
   ],
   "source": [
    "small = full_df.dropna(subset=['Planet Radius [Jupiter Radius]', 'Planet Mass [Jupiter Mass]'])\n",
    "small.drop(small.index[small['Planet Radius [Jupiter Radius]'] == 0], inplace = True)\n",
    "small.drop(small.index[small['Planet Radius [Jupiter Radius]'] >= 1], inplace = True)\n",
    "small.drop(small.index[small['Planet Mass [Jupiter Mass]'] == 0], inplace = True)\n",
    "small.drop(small.index[small['Planet Mass [Jupiter Mass]'] >= .2], inplace = True)\n",
    "small.drop(small.index[small['Orbital Period [days]'] == 0], inplace = True)\n",
    "#size = full_df.dropna(full_df['Planet Radius [Jupiter Radius]'])\n",
    "small.count()"
   ]
  },
  {
   "cell_type": "code",
   "execution_count": 71,
   "metadata": {},
   "outputs": [
    {
     "data": {
      "image/png": "[encoded data removed]",
      "text/plain": [
       "<Figure size 720x720 with 1 Axes>"
      ]
     },
     "metadata": {
      "needs_background": "light"
     },
     "output_type": "display_data"
    }
   ],
   "source": [
    "plt.figure(figsize=(10, 10))\n",
    "plt.scatter((small['Planet Radius [Jupiter Radius]']), small['Planet Mass [Jupiter Mass]'])\n",
    "plt.savefig('./Images/RadiusJvsMassJlow')"
   ]
  },
  {
   "cell_type": "code",
   "execution_count": 76,
   "metadata": {},
   "outputs": [
    {
     "data": {
      "text/plain": [
       "<matplotlib.axes._subplots.AxesSubplot at 0x1dfe1a88430>"
      ]
     },
     "execution_count": 76,
     "metadata": {},
     "output_type": "execute_result"
    },
    {
     "data": {
      "image/png": "[encoded data removed]",
      "text/plain": [
       "<Figure size 432x288 with 1 Axes>"
      ]
     },
     "metadata": {
      "needs_background": "light"
     },
     "output_type": "display_data"
    }
   ],
   "source": [
    "system_size = star_specific.groupby('Number of Planets').agg({'Number of Stars':'count'})\n",
    "system_size.plot(kind='bar')\n",
    "plt.savefig('./Images/planets')"
   ]
  },
  {
   "cell_type": "code",
   "execution_count": 63,
   "metadata": {},
   "outputs": [
    {
     "data": {
      "image/png": "[encoded data removed]",
      "text/plain": [
       "<Figure size 360x720 with 1 Axes>"
      ]
     },
     "metadata": {
      "needs_background": "light"
     },
     "output_type": "display_data"
    }
   ],
   "source": [
    "disc_loc = full_df [full_df ['Discovery Locale'] != 'Multiple Locales']\n",
    "disc_loc = disc_loc [disc_loc ['Discovery Locale'] != 'Multiple Locale']\n",
    "disc_loc_group= disc_loc.groupby('Discovery Locale').agg({'Number of Planets':'count'})\n",
    "disc_loc_group.plot(kind='bar', figsize=(5,10))\n",
    "plt.savefig('./Images/discLocation')"
   ]
  },
  {
   "cell_type": "code",
   "execution_count": 15,
   "metadata": {},
   "outputs": [
    {
     "data": {
      "image/png": "[encoded data removed]",
      "text/plain": [
       "<Figure size 1440x1440 with 1 Axes>"
      ]
     },
     "metadata": {
      "needs_background": "light"
     },
     "output_type": "display_data"
    }
   ],
   "source": [
    "disc_year= full_df.groupby('Discovery Year').agg({'Number of Planets':'count'})\n",
    "\n",
    "disc_year.plot(kind='bar', figsize=(20, 20))\n",
    "#plt.figure(figsize=(20, 20))\n",
    "plt.savefig('./Images/discYear')"
   ]
  },
  {
   "cell_type": "code",
   "execution_count": 16,
   "metadata": {},
   "outputs": [
    {
     "data": {
      "text/plain": [
       "6770.0"
      ]
     },
     "execution_count": 16,
     "metadata": {},
     "output_type": "execute_result"
    }
   ],
   "source": [
    "\n",
    "star_specific_distance_outlier=star_specific.drop(star_specific.index[star_specific['Distance [pc]'] >= 7000])\n",
    "star_specific_distance_outlier['Distance [pc]'].max()"
   ]
  },
  {
   "cell_type": "code",
   "execution_count": 17,
   "metadata": {},
   "outputs": [
    {
     "name": "stderr",
     "output_type": "stream",
     "text": [
      "C:\\Users\\Crazyspaceman\\anaconda3\\lib\\site-packages\\numpy\\lib\\histograms.py:839: RuntimeWarning: invalid value encountered in greater_equal\n",
      "  keep = (tmp_a >= first_edge)\n",
      "C:\\Users\\Crazyspaceman\\anaconda3\\lib\\site-packages\\numpy\\lib\\histograms.py:840: RuntimeWarning: invalid value encountered in less_equal\n",
      "  keep &= (tmp_a <= last_edge)\n"
     ]
    },
    {
     "data": {
      "text/plain": [
       "(array([196., 221., 133.,  65.,  58.,  40.,  22.,   7.,   8.,   3.,   5.,\n",
       "          2.,   2.,   2.,   0.,   1.,   1.,   1.,   0.,   0.,   0.,   0.,\n",
       "          0.,   0.,   0.,   0.,   0.,   0.,   0.,   0.,   0.,   1.,   0.,\n",
       "          0.,   0.,   0.,   1.,   1.,   0.,   1.]),\n",
       " array([3.20260000e+00, 1.81872535e+02, 3.60542470e+02, 5.39212405e+02,\n",
       "        7.17882340e+02, 8.96552275e+02, 1.07522221e+03, 1.25389215e+03,\n",
       "        1.43256208e+03, 1.61123202e+03, 1.78990195e+03, 1.96857189e+03,\n",
       "        2.14724182e+03, 2.32591176e+03, 2.50458169e+03, 2.68325163e+03,\n",
       "        2.86192156e+03, 3.04059150e+03, 3.21926143e+03, 3.39793137e+03,\n",
       "        3.57660130e+03, 3.75527124e+03, 3.93394117e+03, 4.11261110e+03,\n",
       "        4.29128104e+03, 4.46995097e+03, 4.64862091e+03, 4.82729084e+03,\n",
       "        5.00596078e+03, 5.18463072e+03, 5.36330065e+03, 5.54197059e+03,\n",
       "        5.72064052e+03, 5.89931045e+03, 6.07798039e+03, 6.25665032e+03,\n",
       "        6.43532026e+03, 6.61399020e+03, 6.79266013e+03, 6.97133007e+03,\n",
       "        7.15000000e+03]),\n",
       " <a list of 40 Patch objects>)"
      ]
     },
     "execution_count": 17,
     "metadata": {},
     "output_type": "execute_result"
    },
    {
     "data": {
      "image/png": "[encoded data removed]",
      "text/plain": [
       "<Figure size 1440x720 with 1 Axes>"
      ]
     },
     "metadata": {
      "needs_background": "light"
     },
     "output_type": "display_data"
    }
   ],
   "source": [
    "plt.figure(figsize=(20, 10))\n",
    "plt.hist(star_specific['Distance [pc]'], bins=40)"
   ]
  },
  {
   "cell_type": "code",
   "execution_count": 18,
   "metadata": {},
   "outputs": [
    {
     "data": {
      "text/plain": [
       "(array([37., 43., 53., 41., 41., 41., 43., 24., 26., 25., 24., 18., 11.,\n",
       "        20., 10.,  5.,  8.,  3.,  0.,  1.]),\n",
       " array([2.00000e-03, 7.46900e-01, 1.49180e+00, 2.23670e+00, 2.98160e+00,\n",
       "        3.72650e+00, 4.47140e+00, 5.21630e+00, 5.96120e+00, 6.70610e+00,\n",
       "        7.45100e+00, 8.19590e+00, 8.94080e+00, 9.68570e+00, 1.04306e+01,\n",
       "        1.11755e+01, 1.19204e+01, 1.26653e+01, 1.34102e+01, 1.41551e+01,\n",
       "        1.49000e+01]),\n",
       " <a list of 20 Patch objects>)"
      ]
     },
     "execution_count": 18,
     "metadata": {},
     "output_type": "execute_result"
    },
    {
     "data": {
      "image/png": "[encoded data removed]",
      "text/plain": [
       "<Figure size 1440x720 with 1 Axes>"
      ]
     },
     "metadata": {
      "needs_background": "light"
     },
     "output_type": "display_data"
    }
   ],
   "source": [
    "plt.figure(figsize=(20, 10))\n",
    "plt.hist(star_specific['Stellar Age [Gyr]'], bins=20)"
   ]
  },
  {
   "cell_type": "code",
   "execution_count": 19,
   "metadata": {},
   "outputs": [
    {
     "data": {
      "text/plain": [
       "<matplotlib.axes._subplots.AxesSubplot at 0x1dfe06bee50>"
      ]
     },
     "execution_count": 19,
     "metadata": {},
     "output_type": "execute_result"
    },
    {
     "data": {
      "image/png": "[encoded data removed]",
      "text/plain": [
       "<Figure size 360x720 with 1 Axes>"
      ]
     },
     "metadata": {
      "needs_background": "light"
     },
     "output_type": "display_data"
    }
   ],
   "source": [
    "disc_meth= full_df.groupby('Discovery Method').agg({'Number of Planets':'count'})\n",
    "disc_meth.plot(kind='bar', figsize=(5,10))"
   ]
  },
  {
   "cell_type": "code",
   "execution_count": 50,
   "metadata": {},
   "outputs": [
    {
     "ename": "NameError",
     "evalue": "name 'plot' is not defined",
     "output_type": "error",
     "traceback": [
      "\u001b[1;31m---------------------------------------------------------------------------\u001b[0m",
      "\u001b[1;31mNameError\u001b[0m                                 Traceback (most recent call last)",
      "\u001b[1;32m<ipython-input-50-d0b713c340af>\u001b[0m in \u001b[0;36m<module>\u001b[1;34m\u001b[0m\n\u001b[0;32m      1\u001b[0m \u001b[0mdisc_fac\u001b[0m\u001b[1;33m=\u001b[0m \u001b[0mfull_df\u001b[0m\u001b[1;33m.\u001b[0m\u001b[0mgroupby\u001b[0m\u001b[1;33m(\u001b[0m\u001b[1;34m'Discovery Facility'\u001b[0m\u001b[1;33m)\u001b[0m\u001b[1;33m.\u001b[0m\u001b[0magg\u001b[0m\u001b[1;33m(\u001b[0m\u001b[1;33m{\u001b[0m\u001b[1;34m'Number of Planets'\u001b[0m\u001b[1;33m:\u001b[0m\u001b[1;34m'count'\u001b[0m\u001b[1;33m}\u001b[0m\u001b[1;33m)\u001b[0m\u001b[1;33m\u001b[0m\u001b[1;33m\u001b[0m\u001b[0m\n\u001b[0;32m      2\u001b[0m \u001b[0mdisc_fac\u001b[0m\u001b[1;33m.\u001b[0m\u001b[0mplot\u001b[0m\u001b[1;33m.\u001b[0m\u001b[0mbarh\u001b[0m\u001b[1;33m(\u001b[0m\u001b[1;33m)\u001b[0m\u001b[1;33m\u001b[0m\u001b[1;33m\u001b[0m\u001b[0m\n\u001b[1;32m----> 3\u001b[1;33m \u001b[0mplot\u001b[0m\u001b[1;33m.\u001b[0m\u001b[0mfigsize\u001b[0m\u001b[1;33m(\u001b[0m\u001b[1;36m20\u001b[0m\u001b[1;33m,\u001b[0m\u001b[1;36m5\u001b[0m\u001b[1;33m)\u001b[0m\u001b[1;33m\u001b[0m\u001b[1;33m\u001b[0m\u001b[0m\n\u001b[0m\u001b[0;32m      4\u001b[0m \u001b[0mplt\u001b[0m\u001b[1;33m.\u001b[0m\u001b[0msavefig\u001b[0m\u001b[1;33m(\u001b[0m\u001b[1;34m'./Images/discFacility.jpeg'\u001b[0m\u001b[1;33m)\u001b[0m\u001b[1;33m\u001b[0m\u001b[1;33m\u001b[0m\u001b[0m\n\u001b[0;32m      5\u001b[0m \u001b[1;31m#plt(figsize=(5,10))\u001b[0m\u001b[1;33m\u001b[0m\u001b[1;33m\u001b[0m\u001b[1;33m\u001b[0m\u001b[0m\n",
      "\u001b[1;31mNameError\u001b[0m: name 'plot' is not defined"
     ]
    },
    {
     "data": {
      "image/png": "[encoded data removed]",
      "text/plain": [
       "<Figure size 432x288 with 1 Axes>"
      ]
     },
     "metadata": {
      "needs_background": "light"
     },
     "output_type": "display_data"
    }
   ],
   "source": [
    "disc_fac= full_df.groupby('Discovery Facility').agg({'Number of Planets':'count'})\n",
    "disc_fac.plot.barh(figsize=(20,5))\n",
    "plt.savefig('./Images/discFacilityB')\n",
    "#plt(figsize=(5,10))"
   ]
  },
  {
   "cell_type": "code",
   "execution_count": 21,
   "metadata": {},
   "outputs": [
    {
     "data": {
      "image/png": "[encoded data removed]",
      "text/plain": [
       "<Figure size 1440x360 with 1 Axes>"
      ]
     },
     "metadata": {
      "needs_background": "light"
     },
     "output_type": "display_data"
    }
   ],
   "source": [
    "spec_ty =star_specific.groupby('Spectral Type').agg({'Number of Stars':'count'})\n",
    "spec_ty.plot(kind='bar', figsize=(20,5))\n",
    "plt.savefig('./Images/specType')"
   ]
  },
  {
   "cell_type": "code",
   "execution_count": 22,
   "metadata": {},
   "outputs": [
    {
     "data": {
      "text/plain": [
       "Index(['Planet Name', 'Host Name', 'Number of Stars', 'Number of Planets',\n",
       "       'Discovery Method', 'Discovery Year', 'Discovery Locale',\n",
       "       'Discovery Facility', 'Orbital Period [days]',\n",
       "       'Planet Radius [Jupiter Radius]', 'Planet Mass [Earth Mass]',\n",
       "       'Planet Mass [Jupiter Mass]', 'Equilibrium Temperature [K]',\n",
       "       'Spectral Type', 'Stellar Effective Temperature [K]',\n",
       "       'Stellar Mass [Solar mass]', 'Stellar Age [Gyr]', 'Distance [pc]',\n",
       "       'Gaia Magnitude'],\n",
       "      dtype='object')"
      ]
     },
     "execution_count": 22,
     "metadata": {},
     "output_type": "execute_result"
    }
   ],
   "source": [
    "star_specific.columns"
   ]
  },
  {
   "cell_type": "code",
   "execution_count": 23,
   "metadata": {},
   "outputs": [],
   "source": [
    "star_specific=star_specific.drop([ 'Discovery Method', 'Discovery Year', 'Discovery Locale', 'Discovery Facility',\n",
    "                                  'Orbital Period [days]', 'Planet Name', 'Planet Radius [Jupiter Radius]',\n",
    "                                  'Planet Mass [Earth Mass]', 'Planet Mass [Jupiter Mass]','Equilibrium Temperature [K]'],\n",
    "                                 axis=1)"
   ]
  },
  {
   "cell_type": "code",
   "execution_count": 24,
   "metadata": {},
   "outputs": [],
   "source": [
    "star_specific=star_specific.set_index('Host Name')\n",
    "html = star_specific.to_html() \n",
    "  \n",
    "#write html to file \n",
    "text_file = open(\"star_data.html\", \"w\") \n",
    "text_file.write(html) \n",
    "ext_file.close() "
   ]
  },
  {
   "cell_type": "code",
   "execution_count": 25,
   "metadata": {},
   "outputs": [
    {
     "data": {
      "text/plain": [
       "Index(['index', 'Host Name', 'Number of Stars', 'Number of Planets',\n",
       "       'Spectral Type', 'Stellar Effective Temperature [K]',\n",
       "       'Stellar Mass [Solar mass]', 'Stellar Age [Gyr]', 'Distance [pc]',\n",
       "       'Gaia Magnitude'],\n",
       "      dtype='object')"
      ]
     },
     "execution_count": 25,
     "metadata": {},
     "output_type": "execute_result"
    }
   ],
   "source": [
    "star_specific.columns"
   ]
  },
  {
   "cell_type": "code",
   "execution_count": 26,
   "metadata": {},
   "outputs": [
    {
     "ename": "NameError",
     "evalue": "name 'ext_file' is not defined",
     "output_type": "error",
     "traceback": [
      "\u001b[1;31m---------------------------------------------------------------------------\u001b[0m",
      "\u001b[1;31mNameError\u001b[0m                                 Traceback (most recent call last)",
      "\u001b[1;32m<ipython-input-26-296f89402ce8>\u001b[0m in \u001b[0;36m<module>\u001b[1;34m\u001b[0m\n\u001b[0;32m      4\u001b[0m \u001b[0mtext_file\u001b[0m \u001b[1;33m=\u001b[0m \u001b[0mopen\u001b[0m\u001b[1;33m(\u001b[0m\u001b[1;34m\"PD.html\"\u001b[0m\u001b[1;33m,\u001b[0m \u001b[1;34m\"w\"\u001b[0m\u001b[1;33m)\u001b[0m\u001b[1;33m\u001b[0m\u001b[1;33m\u001b[0m\u001b[0m\n\u001b[0;32m      5\u001b[0m \u001b[0mtext_file\u001b[0m\u001b[1;33m.\u001b[0m\u001b[0mwrite\u001b[0m\u001b[1;33m(\u001b[0m\u001b[0mhtml\u001b[0m\u001b[1;33m)\u001b[0m\u001b[1;33m\u001b[0m\u001b[1;33m\u001b[0m\u001b[0m\n\u001b[1;32m----> 6\u001b[1;33m \u001b[0mext_file\u001b[0m\u001b[1;33m.\u001b[0m\u001b[0mclose\u001b[0m\u001b[1;33m(\u001b[0m\u001b[1;33m)\u001b[0m\u001b[1;33m\u001b[0m\u001b[1;33m\u001b[0m\u001b[0m\n\u001b[0m",
      "\u001b[1;31mNameError\u001b[0m: name 'ext_file' is not defined"
     ]
    }
   ],
   "source": [
    "html = full_df.to_html() \n",
    "  \n",
    "#write html to file \n",
    "text_file = open(\"PD.html\", \"w\") \n",
    "text_file.write(html) \n",
    "text_file.close() "
   ]
  },
  {
   "cell_type": "code",
   "execution_count": 28,
   "metadata": {},
   "outputs": [
    {
     "data": {
      "text/plain": [
       "Index(['Planet Name', 'Host Name', 'Number of Stars', 'Number of Planets',\n",
       "       'Discovery Method', 'Discovery Year', 'Discovery Locale',\n",
       "       'Discovery Facility', 'Orbital Period [days]',\n",
       "       'Planet Radius [Jupiter Radius]', 'Planet Mass [Earth Mass]',\n",
       "       'Planet Mass [Jupiter Mass]', 'Equilibrium Temperature [K]',\n",
       "       'Spectral Type', 'Stellar Effective Temperature [K]',\n",
       "       'Stellar Mass [Solar mass]', 'Stellar Age [Gyr]', 'Distance [pc]',\n",
       "       'Gaia Magnitude'],\n",
       "      dtype='object')"
      ]
     },
     "execution_count": 28,
     "metadata": {},
     "output_type": "execute_result"
    }
   ],
   "source": [
    "full_df.columns"
   ]
  },
  {
   "cell_type": "code",
   "execution_count": 41,
   "metadata": {},
   "outputs": [
    {
     "data": {
      "text/plain": [
       "Discovery Locale\n",
       "Ground              36\n",
       "Multiple Locale      2\n",
       "Multiple Locales     1\n",
       "Space                6\n",
       "dtype: int64"
      ]
     },
     "execution_count": 41,
     "metadata": {},
     "output_type": "execute_result"
    }
   ],
   "source": [
    "\n",
    "df2 = full_df.groupby('Discovery Locale').apply(lambda x: x['Discovery Facility'].nunique())\n",
    "df2"
   ]
  },
  {
   "cell_type": "code",
   "execution_count": 57,
   "metadata": {},
   "outputs": [],
   "source": []
  },
  {
   "cell_type": "code",
   "execution_count": 64,
   "metadata": {},
   "outputs": [
    {
     "data": {
      "text/plain": [
       "<matplotlib.axes._subplots.AxesSubplot at 0x1dfe37b4bb0>"
      ]
     },
     "execution_count": 64,
     "metadata": {},
     "output_type": "execute_result"
    },
    {
     "data": {
      "image/png": "[encoded data removed]",
      "text/plain": [
       "<Figure size 360x1440 with 1 Axes>"
      ]
     },
     "metadata": {
      "needs_background": "light"
     },
     "output_type": "display_data"
    }
   ],
   "source": [
    "fac_earth=disc_loc[disc_loc ['Discovery Locale'] == 'Ground']\n",
    "disc_fac_ground= fac_earth.groupby('Discovery Facility').agg({'Number of Planets':'count'})\n",
    "disc_fac_ground.plot.barh(figsize=(5,20))"
   ]
  },
  {
   "cell_type": "code",
   "execution_count": 62,
   "metadata": {},
   "outputs": [
    {
     "data": {
      "text/plain": [
       "<matplotlib.axes._subplots.AxesSubplot at 0x1dfe145cd60>"
      ]
     },
     "execution_count": 62,
     "metadata": {},
     "output_type": "execute_result"
    },
    {
     "data": {
      "image/png": "[encoded data removed]",
      "text/plain": [
       "<Figure size 360x1440 with 1 Axes>"
      ]
     },
     "metadata": {
      "needs_background": "light"
     },
     "output_type": "display_data"
    }
   ],
   "source": [
    "fac_space=full_df[full_df ['Discovery Locale'] == 'Space']\n",
    "disc_fac_space= fac_space.groupby('Discovery Facility').agg({'Number of Planets':'count'})\n",
    "disc_fac_space.plot.barh(figsize=(5,20))"
   ]
  },
  {
   "cell_type": "code",
   "execution_count": null,
   "metadata": {},
   "outputs": [],
   "source": []
  }
 ],
 "metadata": {
  "kernelspec": {
   "display_name": "Python 3",
   "language": "python",
   "name": "python3"
  },
  "language_info": {
   "codemirror_mode": {
    "name": "ipython",
    "version": 3
   },
   "file_extension": ".py",
   "mimetype": "text/x-python",
   "name": "python",
   "nbconvert_exporter": "python",
   "pygments_lexer": "ipython3",
   "version": "3.8.3"
  }
 },
 "nbformat": 4,
 "nbformat_minor": 4
}
